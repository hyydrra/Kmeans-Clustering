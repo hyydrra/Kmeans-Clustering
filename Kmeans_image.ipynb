{
  "nbformat": 4,
  "nbformat_minor": 0,
  "metadata": {
    "colab": {
      "name": "IS_HW3_Q2.ipynb",
      "provenance": [],
      "collapsed_sections": [],
      "include_colab_link": true
    },
    "kernelspec": {
      "name": "python3",
      "display_name": "Python 3"
    }
  },
  "cells": [
    {
      "cell_type": "markdown",
      "metadata": {
        "id": "view-in-github",
        "colab_type": "text"
      },
      "source": [
        "<a href=\"https://colab.research.google.com/github/hyydrra/Kmeans-Clustering/blob/master/Kmeans_image.ipynb\" target=\"_parent\"><img src=\"https://colab.research.google.com/assets/colab-badge.svg\" alt=\"Open In Colab\"/></a>"
      ]
    },
    {
      "cell_type": "code",
      "metadata": {
        "id": "mWj7iBGz4zcC",
        "colab_type": "code",
        "colab": {}
      },
      "source": [
        "import numpy as np\n",
        "import pandas as pd\n",
        "import random \n",
        "import imageio\n",
        "from skimage import io"
      ],
      "execution_count": null,
      "outputs": []
    },
    {
      "cell_type": "code",
      "metadata": {
        "id": "GpZofKDg6W7W",
        "colab_type": "code",
        "colab": {}
      },
      "source": [
        "#  read and show original image\n",
        "image = io.imread('/content/img.jpg')\n",
        "io.imshow(image)\n",
        "io.show()\n",
        " \n",
        "rows, cols = image.shape[0],image.shape[1]\n",
        "image = image / 255\n",
        "train_data = np.reshape(image, (image.shape[0] * image.shape[1], image.shape[2]))\n",
        "num_traindata= rows*cols\n",
        "k=22\n",
        "dim=3"
      ],
      "execution_count": null,
      "outputs": []
    },
    {
      "cell_type": "code",
      "metadata": {
        "id": "SZC-La-MzTID",
        "colab_type": "code",
        "colab": {}
      },
      "source": [
        "output=np.zeros((train_data.shape[0], train_data.shape[1]))"
      ],
      "execution_count": null,
      "outputs": []
    },
    {
      "cell_type": "code",
      "metadata": {
        "id": "qYkt45qi5vmI",
        "colab_type": "code",
        "colab": {}
      },
      "source": [
        "\n",
        "def initcenter_kmeans(k,dim):\n",
        "  \n",
        "  centers={}\n",
        "  clusters={}\n",
        "  for i in range(k):\n",
        "    centers[i]=[]\n",
        "    clusters[i]=[]\n",
        "    for j in range(dim):\n",
        "      random_index = random.randint(0, num_traindata  - 1)\n",
        "      centers[i].append( train_data[random_index][j] )\n",
        "  return centers\n"
      ],
      "execution_count": null,
      "outputs": []
    },
    {
      "cell_type": "code",
      "metadata": {
        "id": "pLp_6z2H9RA1",
        "colab_type": "code",
        "colab": {}
      },
      "source": [
        "def kmeans(train_data,centers,k):\n",
        "  clusters={}\n",
        "  for i in range(k):\n",
        "    clusters[i]=[]\n",
        "  for i in range(train_data.shape[0]):\n",
        "    Min = 9858585858585858585\n",
        "    minind = None\n",
        "    for j in range(k):\n",
        "      rmse = sum((train_data[i] - np.array(centers[j]))**2)\n",
        "      if rmse< Min:\n",
        "        Min = rmse\n",
        "        minind = j\n",
        "    clusters[minind].append(i)\n",
        "\n",
        "  for c in range(k):\n",
        "    if len(clusters[c])>0:\n",
        "      temp = train_data[clusters[c]]\n",
        "      centers[c] = temp.mean(axis=0)\n",
        "  return clusters,centers\n"
      ],
      "execution_count": null,
      "outputs": []
    },
    {
      "cell_type": "code",
      "metadata": {
        "id": "IXLIZxN0B3Mo",
        "colab_type": "code",
        "colab": {
          "base_uri": "https://localhost:8080/",
          "height": 139
        },
        "outputId": "94832dbe-0d5d-464e-b10a-4f08bb0679fd"
      },
      "source": [
        "centers = initcenter_kmeans(k,dim)\n",
        "for i in range(3):\n",
        "  print(i)\n",
        "  clusters,centers=kmeans(train_data,centers,k)\n",
        "  print(centers)"
      ],
      "execution_count": null,
      "outputs": [
        {
          "output_type": "stream",
          "text": [
            "0\n",
            "{0: array([0.29044782, 0.18722724, 0.24738802]), 1: array([0.30610375, 0.34739009, 0.10430953]), 2: array([0.39230772, 0.40174587, 0.49401265]), 3: array([0.43084783, 0.18505938, 0.37133389]), 4: array([0.52155171, 0.6179512 , 0.56043555]), 5: array([0.58113817, 0.06373871, 0.11088488]), 6: array([0.68975125, 0.49725201, 0.41623121]), 7: array([0.42814238, 0.35373907, 0.31410318]), 8: array([0.58898988, 0.43026068, 0.50908363]), 9: array([0.15418154, 0.26336935, 0.08113458]), 10: array([0.15789472, 0.17075093, 0.27497976]), 11: array([0.58179454, 0.30753782, 0.37692799]), 12: array([0.22754787, 0.26817475, 0.35971062]), 13: array([0.29142678, 0.36343041, 0.22106449]), 14: array([0.16033287, 0.09049903, 0.07352003]), 15: array([0.41547565, 0.56093955, 0.42131959]), 16: array([0.6374282 , 0.22072981, 0.20992151]), 17: array([0.71871698, 0.69557578, 0.64596927]), 18: array([0.82389364, 0.28106734, 0.38750548]), 19: array([0.11975867, 0.4438914 , 0.45429864]), 20: array([0.68906814, 0.39763549, 0.27552479]), 21: array([0.33836099, 0.57946707, 0.6835093 ])}\n",
            "1\n",
            "{0: array([0.31736243, 0.19823906, 0.18865782]), 1: array([0.30636589, 0.35314449, 0.10921216]), 2: array([0.39860012, 0.41089515, 0.47426964]), 3: array([0.40745245, 0.23705641, 0.32341284]), 4: array([0.54450214, 0.63298164, 0.56428766]), 5: array([0.53329275, 0.0673023 , 0.09772481]), 6: array([0.71294111, 0.49546381, 0.41657126]), 7: array([0.44220848, 0.35781742, 0.29756889]), 8: array([0.56273734, 0.47545409, 0.44917681]), 9: array([0.18220977, 0.23701987, 0.08359474]), 10: array([0.16427193, 0.16968905, 0.23347399]), 11: array([0.55766333, 0.38952617, 0.34799883]), 12: array([0.25412575, 0.27154657, 0.37160249]), 13: array([0.30051111, 0.37556978, 0.23098258]), 14: array([0.12502833, 0.06196823, 0.05484942]), 15: array([0.42341041, 0.54650927, 0.40027994]), 16: array([0.67738658, 0.19082657, 0.19799904]), 17: array([0.73142129, 0.70047975, 0.64195901]), 18: array([0.84021451, 0.2227382 , 0.31559329]), 19: array([0.19318719, 0.40125112, 0.47747464]), 20: array([0.6648602 , 0.41311836, 0.30358952]), 21: array([0.40636288, 0.56285556, 0.7030139 ])}\n",
            "2\n",
            "{0: array([0.31807828, 0.18782213, 0.16663995]), 1: array([0.29757384, 0.3670079 , 0.1111396 ]), 2: array([0.40253726, 0.4127715 , 0.4608972 ]), 3: array([0.39694192, 0.26261036, 0.2818548 ]), 4: array([0.55588856, 0.63920179, 0.56932551]), 5: array([0.47820769, 0.05952645, 0.0846463 ]), 6: array([0.73925558, 0.49274266, 0.41674002]), 7: array([0.44661944, 0.35399595, 0.28426053]), 8: array([0.57676848, 0.49593257, 0.44117757]), 9: array([0.18772228, 0.21827112, 0.08243018]), 10: array([0.17996264, 0.16521363, 0.20559812]), 11: array([0.54332167, 0.40376761, 0.34460007]), 12: array([0.26271592, 0.27033577, 0.36092502]), 13: array([0.30584344, 0.3854444 , 0.24047034]), 14: array([0.10951872, 0.05144541, 0.04738847]), 15: array([0.42006691, 0.54501352, 0.39625987]), 16: array([0.70639763, 0.15142095, 0.18280262]), 17: array([0.7429075 , 0.70359468, 0.64385377]), 18: array([0.83545107, 0.18373156, 0.27346568]), 19: array([0.24405586, 0.35872673, 0.50006179]), 20: array([0.66742279, 0.41624527, 0.31507922]), 21: array([0.44293146, 0.56376493, 0.69584177])}\n"
          ],
          "name": "stdout"
        }
      ]
    },
    {
      "cell_type": "code",
      "metadata": {
        "id": "vz0cfViD7iYP",
        "colab_type": "code",
        "colab": {}
      },
      "source": [
        "for c in clusters:\n",
        "  for ind in clusters[c]:\n",
        "    output[ind] = centers[c]"
      ],
      "execution_count": null,
      "outputs": []
    },
    {
      "cell_type": "code",
      "metadata": {
        "id": "G7el9Fr97nPl",
        "colab_type": "code",
        "colab": {}
      },
      "source": [
        "output= np.reshape(output, (rows, cols, 3))\n",
        "print(np.shape(output))\n",
        "imageio.imwrite('landscape_new.jpg', output)\n",
        "image_compressed = io.imread('landscape_new.jpg')\n",
        "io.imshow(image_compressed)\n",
        "io.show()"
      ],
      "execution_count": null,
      "outputs": []
    },
    {
      "cell_type": "code",
      "metadata": {
        "id": "iizr0lvcBz6e",
        "colab_type": "code",
        "colab": {
          "base_uri": "https://localhost:8080/",
          "height": 391
        },
        "outputId": "251c71f4-dace-4c5e-bbf3-2a2b0d39745d"
      },
      "source": [
        "centers"
      ],
      "execution_count": null,
      "outputs": [
        {
          "output_type": "execute_result",
          "data": {
            "text/plain": [
              "{0: array([0.31807828, 0.18782213, 0.16663995]),\n",
              " 1: array([0.29757384, 0.3670079 , 0.1111396 ]),\n",
              " 2: array([0.40253726, 0.4127715 , 0.4608972 ]),\n",
              " 3: array([0.39694192, 0.26261036, 0.2818548 ]),\n",
              " 4: array([0.55588856, 0.63920179, 0.56932551]),\n",
              " 5: array([0.47820769, 0.05952645, 0.0846463 ]),\n",
              " 6: array([0.73925558, 0.49274266, 0.41674002]),\n",
              " 7: array([0.44661944, 0.35399595, 0.28426053]),\n",
              " 8: array([0.57676848, 0.49593257, 0.44117757]),\n",
              " 9: array([0.18772228, 0.21827112, 0.08243018]),\n",
              " 10: array([0.17996264, 0.16521363, 0.20559812]),\n",
              " 11: array([0.54332167, 0.40376761, 0.34460007]),\n",
              " 12: array([0.26271592, 0.27033577, 0.36092502]),\n",
              " 13: array([0.30584344, 0.3854444 , 0.24047034]),\n",
              " 14: array([0.10951872, 0.05144541, 0.04738847]),\n",
              " 15: array([0.42006691, 0.54501352, 0.39625987]),\n",
              " 16: array([0.70639763, 0.15142095, 0.18280262]),\n",
              " 17: array([0.7429075 , 0.70359468, 0.64385377]),\n",
              " 18: array([0.83545107, 0.18373156, 0.27346568]),\n",
              " 19: array([0.24405586, 0.35872673, 0.50006179]),\n",
              " 20: array([0.66742279, 0.41624527, 0.31507922]),\n",
              " 21: array([0.44293146, 0.56376493, 0.69584177])}"
            ]
          },
          "metadata": {
            "tags": []
          },
          "execution_count": 144
        }
      ]
    }
  ]
}